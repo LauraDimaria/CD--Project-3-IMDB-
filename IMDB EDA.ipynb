{
 "cells": [
  {
   "cell_type": "markdown",
   "id": "d5ec5848",
   "metadata": {},
   "source": [
    "### IMDB Project, Part 2\n",
    "#### Laura Dimaria\n",
    "8/1/22\n",
    "\n",
    "Note: I am only able to extract year 2001, so I completed the assignments with the year I had and will come back when the issue is fixed."
   ]
  },
  {
   "cell_type": "code",
   "execution_count": 1,
   "id": "00c9cf79",
   "metadata": {},
   "outputs": [],
   "source": [
    "import pandas as pd\n",
    "import numpy as np"
   ]
  },
  {
   "cell_type": "code",
   "execution_count": 2,
   "id": "f9e06601",
   "metadata": {},
   "outputs": [
    {
     "name": "stdout",
     "output_type": "stream",
     "text": [
      "<class 'pandas.core.frame.DataFrame'>\n",
      "RangeIndex: 1284 entries, 1 to 1284\n",
      "Data columns (total 26 columns):\n",
      " #   Column                 Non-Null Count  Dtype  \n",
      "---  ------                 --------------  -----  \n",
      " 0   imdb_id                1284 non-null   object \n",
      " 1   adult                  1284 non-null   float64\n",
      " 2   backdrop_path          649 non-null    object \n",
      " 3   belongs_to_collection  86 non-null     object \n",
      " 4   budget                 1284 non-null   float64\n",
      " 5   genres                 1284 non-null   object \n",
      " 6   homepage               108 non-null    object \n",
      " 7   id                     1284 non-null   float64\n",
      " 8   original_language      1284 non-null   object \n",
      " 9   original_title         1284 non-null   object \n",
      " 10  overview               1256 non-null   object \n",
      " 11  popularity             1284 non-null   float64\n",
      " 12  poster_path            1127 non-null   object \n",
      " 13  production_companies   1284 non-null   object \n",
      " 14  production_countries   1284 non-null   object \n",
      " 15  release_date           1276 non-null   object \n",
      " 16  revenue                1284 non-null   float64\n",
      " 17  runtime                1284 non-null   float64\n",
      " 18  spoken_languages       1284 non-null   object \n",
      " 19  status                 1284 non-null   object \n",
      " 20  tagline                527 non-null    object \n",
      " 21  title                  1284 non-null   object \n",
      " 22  video                  1284 non-null   float64\n",
      " 23  vote_average           1284 non-null   float64\n",
      " 24  vote_count             1284 non-null   float64\n",
      " 25  certification          418 non-null    object \n",
      "dtypes: float64(9), object(17)\n",
      "memory usage: 260.9+ KB\n"
     ]
    }
   ],
   "source": [
    "year_2001 = pd.read_csv('/Users/lauradimaria/Desktop/GitHub/CD--Project-3-IMDB-/Data/final_tmdb_data_2001.csv.gz')\n",
    "year_2001 = year_2001.drop(labels=0, axis=0)\n",
    "year_2001.info()"
   ]
  },
  {
   "cell_type": "markdown",
   "id": "bd43933a",
   "metadata": {},
   "source": [
    "### How many movies had at least some valid financial information (values > 0 for budget OR revenue)?"
   ]
  },
  {
   "cell_type": "code",
   "execution_count": 3,
   "id": "00a84c06",
   "metadata": {},
   "outputs": [
    {
     "name": "stdout",
     "output_type": "stream",
     "text": [
      "<class 'pandas.core.frame.DataFrame'>\n",
      "Int64Index: 328 entries, 1 to 1265\n",
      "Data columns (total 26 columns):\n",
      " #   Column                 Non-Null Count  Dtype  \n",
      "---  ------                 --------------  -----  \n",
      " 0   imdb_id                328 non-null    object \n",
      " 1   adult                  328 non-null    float64\n",
      " 2   backdrop_path          265 non-null    object \n",
      " 3   belongs_to_collection  50 non-null     object \n",
      " 4   budget                 328 non-null    float64\n",
      " 5   genres                 328 non-null    object \n",
      " 6   homepage               52 non-null     object \n",
      " 7   id                     328 non-null    float64\n",
      " 8   original_language      328 non-null    object \n",
      " 9   original_title         328 non-null    object \n",
      " 10  overview               326 non-null    object \n",
      " 11  popularity             328 non-null    float64\n",
      " 12  poster_path            313 non-null    object \n",
      " 13  production_companies   328 non-null    object \n",
      " 14  production_countries   328 non-null    object \n",
      " 15  release_date           328 non-null    object \n",
      " 16  revenue                328 non-null    float64\n",
      " 17  runtime                328 non-null    float64\n",
      " 18  spoken_languages       328 non-null    object \n",
      " 19  status                 328 non-null    object \n",
      " 20  tagline                242 non-null    object \n",
      " 21  title                  328 non-null    object \n",
      " 22  video                  328 non-null    float64\n",
      " 23  vote_average           328 non-null    float64\n",
      " 24  vote_count             328 non-null    float64\n",
      " 25  certification          221 non-null    object \n",
      "dtypes: float64(9), object(17)\n",
      "memory usage: 69.2+ KB\n"
     ]
    }
   ],
   "source": [
    "year_2001 = year_2001[(year_2001['revenue'] > 0.0) | (year_2001['budget'] > 0.0)]\n",
    "year_2001.info()"
   ]
  },
  {
   "cell_type": "markdown",
   "id": "f7a99248",
   "metadata": {},
   "source": [
    "328 movies had valid financial information in either budget or revenue, down from 1284."
   ]
  },
  {
   "cell_type": "markdown",
   "id": "130630bd",
   "metadata": {},
   "source": [
    "### Drop remainder movies with 0's for budget AND revenue"
   ]
  },
  {
   "cell_type": "code",
   "execution_count": 4,
   "id": "e16030ce",
   "metadata": {},
   "outputs": [
    {
     "name": "stdout",
     "output_type": "stream",
     "text": [
      "<class 'pandas.core.frame.DataFrame'>\n",
      "Int64Index: 183 entries, 1 to 1242\n",
      "Data columns (total 26 columns):\n",
      " #   Column                 Non-Null Count  Dtype  \n",
      "---  ------                 --------------  -----  \n",
      " 0   imdb_id                183 non-null    object \n",
      " 1   adult                  183 non-null    float64\n",
      " 2   backdrop_path          176 non-null    object \n",
      " 3   belongs_to_collection  41 non-null     object \n",
      " 4   budget                 183 non-null    float64\n",
      " 5   genres                 183 non-null    object \n",
      " 6   homepage               37 non-null     object \n",
      " 7   id                     183 non-null    float64\n",
      " 8   original_language      183 non-null    object \n",
      " 9   original_title         183 non-null    object \n",
      " 10  overview               183 non-null    object \n",
      " 11  popularity             183 non-null    float64\n",
      " 12  poster_path            183 non-null    object \n",
      " 13  production_companies   183 non-null    object \n",
      " 14  production_countries   183 non-null    object \n",
      " 15  release_date           183 non-null    object \n",
      " 16  revenue                183 non-null    float64\n",
      " 17  runtime                183 non-null    float64\n",
      " 18  spoken_languages       183 non-null    object \n",
      " 19  status                 183 non-null    object \n",
      " 20  tagline                163 non-null    object \n",
      " 21  title                  183 non-null    object \n",
      " 22  video                  183 non-null    float64\n",
      " 23  vote_average           183 non-null    float64\n",
      " 24  vote_count             183 non-null    float64\n",
      " 25  certification          158 non-null    object \n",
      "dtypes: float64(9), object(17)\n",
      "memory usage: 38.6+ KB\n"
     ]
    }
   ],
   "source": [
    "year_2001.drop(year_2001.loc[year_2001['revenue'] == 0.0].index, inplace=True)\n",
    "year_2001.drop(year_2001.loc[year_2001['budget'] == 0.0].index, inplace=True)\n",
    "year_2001.info()"
   ]
  },
  {
   "cell_type": "markdown",
   "id": "c96b9cdc",
   "metadata": {},
   "source": [
    "183 movies have some financial data for both revenue and budget"
   ]
  },
  {
   "cell_type": "markdown",
   "id": "711c5b3a",
   "metadata": {},
   "source": [
    "### How many movies are there in each of the certification categories (G/PG/PG-13/R)?"
   ]
  },
  {
   "cell_type": "code",
   "execution_count": 5,
   "id": "6aa602ea",
   "metadata": {},
   "outputs": [
    {
     "data": {
      "text/plain": [
       "R        75\n",
       "PG-13    62\n",
       "PG       14\n",
       "G         5\n",
       "NR        2\n",
       "Name: certification, dtype: int64"
      ]
     },
     "execution_count": 5,
     "metadata": {},
     "output_type": "execute_result"
    }
   ],
   "source": [
    "year_2001['certification'].value_counts()"
   ]
  },
  {
   "cell_type": "markdown",
   "id": "6e8efc09",
   "metadata": {},
   "source": [
    "### What is the average revenue per certification category?"
   ]
  },
  {
   "cell_type": "code",
   "execution_count": 6,
   "id": "984c2ab6",
   "metadata": {},
   "outputs": [
    {
     "data": {
      "text/plain": [
       "certification\n",
       "G       177,814,925.400\n",
       "NR       26,808,346.000\n",
       "PG      180,331,769.429\n",
       "PG-13   109,245,343.968\n",
       "R        54,561,884.827\n",
       "Name: revenue, dtype: float64"
      ]
     },
     "execution_count": 6,
     "metadata": {},
     "output_type": "execute_result"
    }
   ],
   "source": [
    "#code stolen from stack overflow\n",
    "#link: https://stackoverflow.com/questions/21137150/format-suppress-scientific-notation-from-pandas-aggregation-results\n",
    "pd.set_option('display.float_format', lambda x: f'{x:,.3f}')\n",
    "\n",
    "year_2001.groupby('certification')['revenue'].mean()"
   ]
  },
  {
   "cell_type": "markdown",
   "id": "d5c7915a",
   "metadata": {},
   "source": [
    "### What is the average budget per certification category?"
   ]
  },
  {
   "cell_type": "code",
   "execution_count": 7,
   "id": "cc00e9e1",
   "metadata": {},
   "outputs": [
    {
     "data": {
      "text/plain": [
       "certification\n",
       "G       42,400,000.000\n",
       "NR       7,200,000.000\n",
       "PG      53,239,286.071\n",
       "PG-13   45,514,473.984\n",
       "R       30,033,120.667\n",
       "Name: budget, dtype: float64"
      ]
     },
     "execution_count": 7,
     "metadata": {},
     "output_type": "execute_result"
    }
   ],
   "source": [
    "pd.set_option('display.float_format', lambda x: f'{x:,.3f}')\n",
    "year_2001.groupby('certification')['budget'].mean()"
   ]
  },
  {
   "cell_type": "code",
   "execution_count": null,
   "id": "4e0f971d",
   "metadata": {},
   "outputs": [],
   "source": []
  }
 ],
 "metadata": {
  "kernelspec": {
   "display_name": "Python (dojo-env)",
   "language": "python",
   "name": "dojo-env"
  },
  "language_info": {
   "codemirror_mode": {
    "name": "ipython",
    "version": 3
   },
   "file_extension": ".py",
   "mimetype": "text/x-python",
   "name": "python",
   "nbconvert_exporter": "python",
   "pygments_lexer": "ipython3",
   "version": "3.8.13"
  },
  "toc": {
   "base_numbering": 1,
   "nav_menu": {},
   "number_sections": false,
   "sideBar": true,
   "skip_h1_title": false,
   "title_cell": "Table of Contents",
   "title_sidebar": "Contents",
   "toc_cell": false,
   "toc_position": {},
   "toc_section_display": true,
   "toc_window_display": false
  }
 },
 "nbformat": 4,
 "nbformat_minor": 5
}
